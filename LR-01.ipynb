{
 "cells": [
  {
   "cell_type": "code",
   "execution_count": 1,
   "metadata": {},
   "outputs": [],
   "source": [
    "# функция шифрования по алгоритму цезаря\n",
    "def tsesar():\n",
    "    letters = 'ABCDEFGHIJKLMNOPQRSTUVWXYZabcdefghijklmnopqrstuvwxyz'\n",
    "    step = 5\n",
    "    print(\" ----- алгоритм Цезаря -----\\n\")\n",
    "    \n",
    "    text = input(\"зашифровать: \")\n",
    "    result = ''\n",
    "    for i in text:\n",
    "        ind = letters.find(i)\n",
    "        newind = ind + step\n",
    "        if i in letters:\n",
    "            result += letters[newind]\n",
    "        else:\n",
    "            result += i\n",
    "    print(\"результат: \",result,\"\\n\")"
   ]
  },
  {
   "cell_type": "code",
   "execution_count": 2,
   "metadata": {},
   "outputs": [],
   "source": [
    "# функция дешифровки по алгоритму цезаря\n",
    "def tsesar_deshifr():\n",
    "    letters = 'ABCDEFGHIJKLMNOPQRSTUVWXYZabcdefghijklmnopqrstuvwxyz'\n",
    "    smeshenie = 5\n",
    "    text = input(\"дешифровать: \")\n",
    "    result = ''\n",
    "\n",
    "    for i in text:\n",
    "        ind = letters.find(i)\n",
    "        newind = ind - smeshenie\n",
    "        if i in letters:\n",
    "            result += letters[newind]\n",
    "        else:\n",
    "            result += i\n",
    "    print(\"результат: \",result,\"\\n\")"
   ]
  },
  {
   "cell_type": "code",
   "execution_count": 3,
   "metadata": {},
   "outputs": [],
   "source": [
    "# функция шифрования Атбаша\n",
    "def atbash():\n",
    "    letters = [chr(x) for x in range(32, 122)]\n",
    "    letters_r = [x for x in letters]\n",
    "    letters_r.reverse()\n",
    "    print(\" ----- алгоритм Атбаша -----\\n\")\n",
    "    text = input(\"зашифровать: \")\n",
    "    result = \"\"\n",
    "    for i in text:\n",
    "        for j,l in enumerate(letters):\n",
    "            if i == l:\n",
    "                result += letters_r[j]\n",
    "    print(\"результат: \",result,\"\\n\")"
   ]
  },
  {
   "cell_type": "code",
   "execution_count": 4,
   "metadata": {},
   "outputs": [],
   "source": [
    "# функция дешифровки Атбаша\n",
    "def atbash_desh():\n",
    "    letters = [chr(x) for x in range(32, 122)]\n",
    "    letters_r = [x for x in letters]\n",
    "    letters_r.reverse()\n",
    "\n",
    "    text = input(\"Атбаш - дешивровка: \")\n",
    "    result = \"\"\n",
    "    for i in text:\n",
    "        for j, l in enumerate(letters_r):\n",
    "            if i == l:\n",
    "                result += letters[j]\n",
    "    print(\"результат: \",result,\"\\n\")"
   ]
  },
  {
   "cell_type": "code",
   "execution_count": 5,
   "metadata": {},
   "outputs": [],
   "source": [
    "# функция мейн: тут запускаем поочередно каждую функцию\n",
    "def main():\n",
    "    tsesar()\n",
    "    tsesar_deshifr()\n",
    "    atbash()\n",
    "    atbash_desh()\n"
   ]
  },
  {
   "cell_type": "code",
   "execution_count": 6,
   "metadata": {},
   "outputs": [
    {
     "name": "stdout",
     "output_type": "stream",
     "text": [
      " ----- алгоритм Цезаря -----\n",
      "\n",
      "зашифровать: Gerdt Olga\n",
      "результат:  Ljwiy Tqlf \n",
      "\n",
      "дешифровать: Ljwiy Tqlf\n",
      "результат:  Gerdt Olga \n",
      "\n",
      " ----- алгоритм Атбаша -----\n",
      "\n",
      "зашифровать: Gerdt Olga\n",
      "результат:  sUHVFkNSY \n",
      "\n",
      "Атбаш - дешивровка: sUHVFkNSY\n",
      "результат:  GerdtOlga \n",
      "\n"
     ]
    }
   ],
   "source": [
    "if __name__ == \"__main__\":\n",
    "    main()"
   ]
  },
  {
   "cell_type": "code",
   "execution_count": null,
   "metadata": {},
   "outputs": [],
   "source": []
  }
 ],
 "metadata": {
  "kernelspec": {
   "display_name": "Python 3",
   "language": "python",
   "name": "python3"
  },
  "language_info": {
   "codemirror_mode": {
    "name": "ipython",
    "version": 3
   },
   "file_extension": ".py",
   "mimetype": "text/x-python",
   "name": "python",
   "nbconvert_exporter": "python",
   "pygments_lexer": "ipython3",
   "version": "3.8.3"
  }
 },
 "nbformat": 4,
 "nbformat_minor": 4
}
